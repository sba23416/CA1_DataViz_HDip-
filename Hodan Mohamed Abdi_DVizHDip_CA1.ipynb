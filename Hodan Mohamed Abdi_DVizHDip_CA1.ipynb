{
 "cells": [
  {
   "cell_type": "markdown",
   "id": "34d9324f",
   "metadata": {},
   "source": [
    "## Introduction "
   ]
  },
  {
   "cell_type": "markdown",
   "id": "f33a08db",
   "metadata": {},
   "source": [
    "Assignment:\n",
    "\n",
    "As part of this assignment, I have been retained by a retail company to analyse a dataset based on video games. This analysis will help determine the sales strategy for the company in their upcoming Winter season.   \n",
    "\n",
    "Each answer MUST have a separate and different visualization that can be easily understood, visually represents the answer, and all data wrangling, analysis, and visualizations must be generated using python. \n",
    "\n",
    "The companies CTO also requires you to rationalize all the decisions that you have made in your Jupyter Notebook report.\n",
    "\n",
    "This rationalization MUST include your visualization design decisions, how you have engineered the data, feature selection and any other information that you deem relevant\n"
   ]
  },
  {
   "cell_type": "markdown",
   "id": "697e2f31",
   "metadata": {},
   "source": [
    "Requirements:\n",
    "\n",
    "You are required to use the dataset contained within the file “vgsales.csv” and then answer the following questions: \n",
    "\n",
    "    Part 1: (Column Names are denoted by quotation marks)  [0-40]\n",
    "        •What are the top 5 games by global sales?  \n",
    "        •Is there a correlation between the “na_sales” and “jp_sales” for \n",
    "    \n",
    "    The years 2010-2014?  \n",
    "        •What is the distribution of the most popular 4 game genres?  \n",
    "        •Do older games (2005 and earlier) have a higher MEAN “eu_sales” \n",
    "    \n",
    "    Than newer games (after 2005)?  \n",
    "        •What are the 3 most common “developer” in the dataset?  \n"
   ]
  },
  {
   "cell_type": "code",
   "execution_count": null,
   "id": "cc8f2706",
   "metadata": {},
   "outputs": [],
   "source": []
  }
 ],
 "metadata": {
  "kernelspec": {
   "display_name": "Python 3 (ipykernel)",
   "language": "python",
   "name": "python3"
  },
  "language_info": {
   "codemirror_mode": {
    "name": "ipython",
    "version": 3
   },
   "file_extension": ".py",
   "mimetype": "text/x-python",
   "name": "python",
   "nbconvert_exporter": "python",
   "pygments_lexer": "ipython3",
   "version": "3.11.4"
  }
 },
 "nbformat": 4,
 "nbformat_minor": 5
}
